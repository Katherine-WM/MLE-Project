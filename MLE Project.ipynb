{
 "cells": [
  {
   "cell_type": "markdown",
   "id": "aa9e7813",
   "metadata": {},
   "source": [
    "## Initial Import"
   ]
  },
  {
   "cell_type": "code",
   "execution_count": 2,
   "id": "32b6c738",
   "metadata": {
    "ExecuteTime": {
     "end_time": "2023-05-16T13:22:42.680848Z",
     "start_time": "2023-05-16T13:22:42.673122Z"
    },
    "tags": []
   },
   "outputs": [],
   "source": [
    "import pandas as pd\n",
    "import numpy  as np\n",
    "import seaborn as sns\n",
    "import matplotlib.pyplot as plt\n",
    "import warnings\n",
    "warnings.filterwarnings('ignore')"
   ]
  },
  {
   "cell_type": "markdown",
   "id": "0c39a9f0",
   "metadata": {},
   "source": [
    "## Data Cleaning"
   ]
  },
  {
   "cell_type": "code",
   "execution_count": 3,
   "id": "68472586",
   "metadata": {
    "ExecuteTime": {
     "end_time": "2023-05-16T12:49:28.226984Z",
     "start_time": "2023-05-16T12:49:24.911301Z"
    },
    "tags": []
   },
   "outputs": [],
   "source": [
    "app = pd.read_csv('Base.csv')"
   ]
  },
  {
   "cell_type": "code",
   "execution_count": 4,
   "id": "dd45d221",
   "metadata": {
    "ExecuteTime": {
     "end_time": "2023-05-16T12:49:28.246534Z",
     "start_time": "2023-05-16T12:49:28.228574Z"
    },
    "tags": []
   },
   "outputs": [
    {
     "data": {
      "text/plain": [
       "0    98.8971\n",
       "1     1.1029\n",
       "Name: fraud_bool, dtype: float64"
      ]
     },
     "execution_count": 4,
     "metadata": {},
     "output_type": "execute_result"
    }
   ],
   "source": [
    "app['fraud_bool'].value_counts(normalize=True)*100"
   ]
  },
  {
   "cell_type": "markdown",
   "id": "f3f6d28c",
   "metadata": {},
   "source": [
    "**It is observed that we have an extremely imbalanced dataset. Fraud transactions accounts for 1.1% of total rows.**"
   ]
  },
  {
   "cell_type": "markdown",
   "id": "bf253e2d",
   "metadata": {},
   "source": [
    "### Missing Values"
   ]
  },
  {
   "cell_type": "markdown",
   "id": "229bab9c",
   "metadata": {},
   "source": [
    "1M record of bank account applications. No missing values in raw dataset."
   ]
  },
  {
   "cell_type": "code",
   "execution_count": 5,
   "id": "2a9382e7-7f94-43fb-9ad1-1cdd9d87a8e7",
   "metadata": {
    "tags": []
   },
   "outputs": [
    {
     "name": "stdout",
     "output_type": "stream",
     "text": [
      "<class 'pandas.core.frame.DataFrame'>\n",
      "RangeIndex: 1000000 entries, 0 to 999999\n",
      "Data columns (total 32 columns):\n",
      " #   Column                            Non-Null Count    Dtype  \n",
      "---  ------                            --------------    -----  \n",
      " 0   fraud_bool                        1000000 non-null  int64  \n",
      " 1   income                            1000000 non-null  float64\n",
      " 2   name_email_similarity             1000000 non-null  float64\n",
      " 3   prev_address_months_count         1000000 non-null  int64  \n",
      " 4   current_address_months_count      1000000 non-null  int64  \n",
      " 5   customer_age                      1000000 non-null  int64  \n",
      " 6   days_since_request                1000000 non-null  float64\n",
      " 7   intended_balcon_amount            1000000 non-null  float64\n",
      " 8   payment_type                      1000000 non-null  object \n",
      " 9   zip_count_4w                      1000000 non-null  int64  \n",
      " 10  velocity_6h                       1000000 non-null  float64\n",
      " 11  velocity_24h                      1000000 non-null  float64\n",
      " 12  velocity_4w                       1000000 non-null  float64\n",
      " 13  bank_branch_count_8w              1000000 non-null  int64  \n",
      " 14  date_of_birth_distinct_emails_4w  1000000 non-null  int64  \n",
      " 15  employment_status                 1000000 non-null  object \n",
      " 16  credit_risk_score                 1000000 non-null  int64  \n",
      " 17  email_is_free                     1000000 non-null  int64  \n",
      " 18  housing_status                    1000000 non-null  object \n",
      " 19  phone_home_valid                  1000000 non-null  int64  \n",
      " 20  phone_mobile_valid                1000000 non-null  int64  \n",
      " 21  bank_months_count                 1000000 non-null  int64  \n",
      " 22  has_other_cards                   1000000 non-null  int64  \n",
      " 23  proposed_credit_limit             1000000 non-null  float64\n",
      " 24  foreign_request                   1000000 non-null  int64  \n",
      " 25  source                            1000000 non-null  object \n",
      " 26  session_length_in_minutes         1000000 non-null  float64\n",
      " 27  device_os                         1000000 non-null  object \n",
      " 28  keep_alive_session                1000000 non-null  int64  \n",
      " 29  device_distinct_emails_8w         1000000 non-null  int64  \n",
      " 30  device_fraud_count                1000000 non-null  int64  \n",
      " 31  month                             1000000 non-null  int64  \n",
      "dtypes: float64(9), int64(18), object(5)\n",
      "memory usage: 244.1+ MB\n"
     ]
    }
   ],
   "source": [
    "app.include"
   ]
  },
  {
   "cell_type": "code",
   "execution_count": 4,
   "id": "50bd16bf",
   "metadata": {
    "ExecuteTime": {
     "end_time": "2023-05-16T12:49:29.049646Z",
     "start_time": "2023-05-16T12:49:28.249010Z"
    }
   },
   "outputs": [
    {
     "data": {
      "text/plain": [
       "fraud_bool                          0\n",
       "income                              0\n",
       "name_email_similarity               0\n",
       "prev_address_months_count           0\n",
       "current_address_months_count        0\n",
       "customer_age                        0\n",
       "days_since_request                  0\n",
       "intended_balcon_amount              0\n",
       "payment_type                        0\n",
       "zip_count_4w                        0\n",
       "velocity_6h                         0\n",
       "velocity_24h                        0\n",
       "velocity_4w                         0\n",
       "bank_branch_count_8w                0\n",
       "date_of_birth_distinct_emails_4w    0\n",
       "employment_status                   0\n",
       "credit_risk_score                   0\n",
       "email_is_free                       0\n",
       "housing_status                      0\n",
       "phone_home_valid                    0\n",
       "phone_mobile_valid                  0\n",
       "bank_months_count                   0\n",
       "has_other_cards                     0\n",
       "proposed_credit_limit               0\n",
       "foreign_request                     0\n",
       "source                              0\n",
       "session_length_in_minutes           0\n",
       "device_os                           0\n",
       "keep_alive_session                  0\n",
       "device_distinct_emails_8w           0\n",
       "device_fraud_count                  0\n",
       "month                               0\n",
       "dtype: int64"
      ]
     },
     "execution_count": 4,
     "metadata": {},
     "output_type": "execute_result"
    }
   ],
   "source": [
    "app.isnull().sum()"
   ]
  },
  {
   "cell_type": "code",
   "execution_count": 5,
   "id": "3edd2d31",
   "metadata": {
    "ExecuteTime": {
     "end_time": "2023-05-16T12:49:29.062078Z",
     "start_time": "2023-05-16T12:49:29.050971Z"
    }
   },
   "outputs": [
    {
     "data": {
      "text/plain": [
       "array([7, 3, 2, 1, 6, 0, 5, 4])"
      ]
     },
     "execution_count": 5,
     "metadata": {},
     "output_type": "execute_result"
    }
   ],
   "source": [
    "app['month'].unique()"
   ]
  },
  {
   "cell_type": "markdown",
   "id": "a708cf58",
   "metadata": {},
   "source": [
    "Since we don't have full year data and we shall predict whether an application is fraudulent base on its organic attributes, therefore, we will drop this column. "
   ]
  },
  {
   "cell_type": "code",
   "execution_count": 6,
   "id": "af648f19",
   "metadata": {
    "ExecuteTime": {
     "end_time": "2023-05-16T12:49:29.233022Z",
     "start_time": "2023-05-16T12:49:29.063587Z"
    }
   },
   "outputs": [],
   "source": [
    "app.drop(columns=['month'], inplace=True)"
   ]
  },
  {
   "cell_type": "markdown",
   "id": "2c81264e",
   "metadata": {},
   "source": [
    "### Encode Categorical Columns"
   ]
  },
  {
   "cell_type": "markdown",
   "id": "dca78e2a",
   "metadata": {},
   "source": [
    "**Payment Type**"
   ]
  },
  {
   "cell_type": "code",
   "execution_count": 7,
   "id": "43876466",
   "metadata": {
    "ExecuteTime": {
     "end_time": "2023-05-16T12:49:29.316683Z",
     "start_time": "2023-05-16T12:49:29.234558Z"
    }
   },
   "outputs": [
    {
     "data": {
      "text/plain": [
       "AB    370554\n",
       "AA    258249\n",
       "AC    252071\n",
       "AD    118837\n",
       "AE       289\n",
       "Name: payment_type, dtype: int64"
      ]
     },
     "execution_count": 7,
     "metadata": {},
     "output_type": "execute_result"
    }
   ],
   "source": [
    "app['payment_type'].value_counts()"
   ]
  },
  {
   "cell_type": "code",
   "execution_count": 8,
   "id": "de8ae4e2",
   "metadata": {
    "ExecuteTime": {
     "end_time": "2023-05-16T12:49:29.543584Z",
     "start_time": "2023-05-16T12:49:29.318162Z"
    }
   },
   "outputs": [],
   "source": [
    "app = app.join(pd.get_dummies(app['payment_type']))"
   ]
  },
  {
   "cell_type": "code",
   "execution_count": 9,
   "id": "90268d30",
   "metadata": {
    "ExecuteTime": {
     "end_time": "2023-05-16T12:49:29.548970Z",
     "start_time": "2023-05-16T12:49:29.545106Z"
    }
   },
   "outputs": [],
   "source": [
    "app.rename(columns={'payment_type':'pay_type', 'AA':'pay_type_AA', 'AB':'pay_type_AB', 'AC':'pay_type_AC', \n",
    "                    'AD':'pay_type_AD', 'AE':'pay_type_AE'}, inplace=True)"
   ]
  },
  {
   "cell_type": "markdown",
   "id": "9d9a7080",
   "metadata": {},
   "source": [
    "**Employment Status**"
   ]
  },
  {
   "cell_type": "code",
   "execution_count": 10,
   "id": "c88c2a53",
   "metadata": {
    "ExecuteTime": {
     "end_time": "2023-05-16T12:49:29.632330Z",
     "start_time": "2023-05-16T12:49:29.552510Z"
    }
   },
   "outputs": [
    {
     "data": {
      "text/plain": [
       "CA    730252\n",
       "CB    138288\n",
       "CF     44034\n",
       "CC     37758\n",
       "CD     26522\n",
       "CE     22693\n",
       "CG       453\n",
       "Name: employment_status, dtype: int64"
      ]
     },
     "execution_count": 10,
     "metadata": {},
     "output_type": "execute_result"
    }
   ],
   "source": [
    "app['employment_status'].value_counts()"
   ]
  },
  {
   "cell_type": "code",
   "execution_count": 11,
   "id": "0de51930",
   "metadata": {
    "ExecuteTime": {
     "end_time": "2023-05-16T12:49:29.837133Z",
     "start_time": "2023-05-16T12:49:29.633563Z"
    }
   },
   "outputs": [],
   "source": [
    "app = app.join(pd.get_dummies(app['employment_status']))"
   ]
  },
  {
   "cell_type": "code",
   "execution_count": 12,
   "id": "7df66a50",
   "metadata": {
    "ExecuteTime": {
     "end_time": "2023-05-16T12:49:29.841884Z",
     "start_time": "2023-05-16T12:49:29.838547Z"
    }
   },
   "outputs": [],
   "source": [
    "app.rename(columns={'employment_status':'emp_stat', 'CA':'emp_stat_CA', 'CB':'emp_stat_CB', 'CC':'emp_stat_CC',\n",
    "                    'CD':'emp_stat_CD', 'CE':'emp_stat_CE', 'CF':'emp_stat_CF', 'CG':'emp_stat_CG'}, \n",
    "           inplace=True)"
   ]
  },
  {
   "cell_type": "markdown",
   "id": "6b41b1b2",
   "metadata": {},
   "source": [
    "**Housing Status**"
   ]
  },
  {
   "cell_type": "code",
   "execution_count": 13,
   "id": "82c94383",
   "metadata": {
    "ExecuteTime": {
     "end_time": "2023-05-16T12:49:29.925540Z",
     "start_time": "2023-05-16T12:49:29.843120Z"
    }
   },
   "outputs": [
    {
     "data": {
      "text/plain": [
       "BC    372143\n",
       "BB    260965\n",
       "BA    169675\n",
       "BE    169135\n",
       "BD     26161\n",
       "BF      1669\n",
       "BG       252\n",
       "Name: housing_status, dtype: int64"
      ]
     },
     "execution_count": 13,
     "metadata": {},
     "output_type": "execute_result"
    }
   ],
   "source": [
    "app['housing_status'].value_counts()"
   ]
  },
  {
   "cell_type": "markdown",
   "id": "9186fcae",
   "metadata": {},
   "source": [
    "Fraud rate for BE, BF, BG are very similar, given small class size for BF, BG, BF and BG will be merged to class BE. "
   ]
  },
  {
   "cell_type": "code",
   "execution_count": 14,
   "id": "a21b67e8",
   "metadata": {
    "ExecuteTime": {
     "end_time": "2023-05-16T12:49:29.929187Z",
     "start_time": "2023-05-16T12:49:29.926794Z"
    }
   },
   "outputs": [],
   "source": [
    "def merge_class(i):\n",
    "    if i == 'BF' or i == 'BG':\n",
    "        return 'BE'\n",
    "    else:\n",
    "        return i"
   ]
  },
  {
   "cell_type": "code",
   "execution_count": 15,
   "id": "9c5d393a",
   "metadata": {
    "ExecuteTime": {
     "end_time": "2023-05-16T12:49:30.166665Z",
     "start_time": "2023-05-16T12:49:29.930469Z"
    }
   },
   "outputs": [],
   "source": [
    "app['housing_status'] = app['housing_status'].apply(lambda x: merge_class(x))"
   ]
  },
  {
   "cell_type": "code",
   "execution_count": 16,
   "id": "169d715f",
   "metadata": {
    "ExecuteTime": {
     "end_time": "2023-05-16T12:49:30.229679Z",
     "start_time": "2023-05-16T12:49:30.167901Z"
    }
   },
   "outputs": [
    {
     "data": {
      "text/plain": [
       "array(['BA', 'BB', 'BC', 'BD', 'BE'], dtype=object)"
      ]
     },
     "execution_count": 16,
     "metadata": {},
     "output_type": "execute_result"
    }
   ],
   "source": [
    "app['housing_status'].unique()"
   ]
  },
  {
   "cell_type": "code",
   "execution_count": 17,
   "id": "a04c2b39",
   "metadata": {
    "ExecuteTime": {
     "end_time": "2023-05-16T12:49:30.397290Z",
     "start_time": "2023-05-16T12:49:30.231255Z"
    }
   },
   "outputs": [],
   "source": [
    "app = app.join(pd.get_dummies(app['housing_status']))"
   ]
  },
  {
   "cell_type": "code",
   "execution_count": 18,
   "id": "8cb94eb3",
   "metadata": {
    "ExecuteTime": {
     "end_time": "2023-05-16T12:49:30.402029Z",
     "start_time": "2023-05-16T12:49:30.398682Z"
    }
   },
   "outputs": [],
   "source": [
    "app.rename(columns={'housing_status':'hous_stat', 'BA':'hous_stat_BA', 'BB':'hous_stat_BB', 'BC':'hous_stat_BC', \n",
    "                    'BD':'hous_stat_BD', 'BE':'hous_stat_BE'}, \n",
    "           inplace=True)"
   ]
  },
  {
   "cell_type": "markdown",
   "id": "53e2699d",
   "metadata": {},
   "source": [
    "**Source**"
   ]
  },
  {
   "cell_type": "code",
   "execution_count": 19,
   "id": "4d1210e3",
   "metadata": {
    "ExecuteTime": {
     "end_time": "2023-05-16T12:49:30.485736Z",
     "start_time": "2023-05-16T12:49:30.403399Z"
    }
   },
   "outputs": [
    {
     "data": {
      "text/plain": [
       "INTERNET    992952\n",
       "TELEAPP       7048\n",
       "Name: source, dtype: int64"
      ]
     },
     "execution_count": 19,
     "metadata": {},
     "output_type": "execute_result"
    }
   ],
   "source": [
    "app['source'].value_counts()"
   ]
  },
  {
   "cell_type": "markdown",
   "id": "02a961e2",
   "metadata": {},
   "source": [
    "**Notice that majority of applications come from 'INTERNET' source, therefore, dropping this column as it won't contribute much.**"
   ]
  },
  {
   "cell_type": "code",
   "execution_count": 20,
   "id": "ae566ac1",
   "metadata": {
    "ExecuteTime": {
     "end_time": "2023-05-16T12:49:30.582687Z",
     "start_time": "2023-05-16T12:49:30.487123Z"
    }
   },
   "outputs": [],
   "source": [
    "app.drop(columns=['source'], inplace=True)"
   ]
  },
  {
   "cell_type": "markdown",
   "id": "38bcc9ec",
   "metadata": {},
   "source": [
    "**Device OS**"
   ]
  },
  {
   "cell_type": "code",
   "execution_count": 21,
   "id": "bcc0ae74",
   "metadata": {
    "ExecuteTime": {
     "end_time": "2023-05-16T12:49:30.670996Z",
     "start_time": "2023-05-16T12:49:30.584076Z"
    }
   },
   "outputs": [
    {
     "data": {
      "text/plain": [
       "other        342728\n",
       "linux        332712\n",
       "windows      263506\n",
       "macintosh     53826\n",
       "x11            7228\n",
       "Name: device_os, dtype: int64"
      ]
     },
     "execution_count": 21,
     "metadata": {},
     "output_type": "execute_result"
    }
   ],
   "source": [
    "app['device_os'].value_counts()"
   ]
  },
  {
   "cell_type": "code",
   "execution_count": 22,
   "id": "cc7ae40b",
   "metadata": {
    "ExecuteTime": {
     "end_time": "2023-05-16T12:49:30.811707Z",
     "start_time": "2023-05-16T12:49:30.672168Z"
    }
   },
   "outputs": [],
   "source": [
    "app = app.join(pd.get_dummies(app['device_os']))"
   ]
  },
  {
   "cell_type": "code",
   "execution_count": 23,
   "id": "276be2fa",
   "metadata": {
    "ExecuteTime": {
     "end_time": "2023-05-16T12:49:30.816058Z",
     "start_time": "2023-05-16T12:49:30.813022Z"
    }
   },
   "outputs": [],
   "source": [
    "app.rename(columns={'other':'os_oth', 'linux':'os_lin', 'windows':'os_win', 'macintosh':'os_mac', \n",
    "                    'x11':'os_x11'}, \n",
    "           inplace=True)"
   ]
  },
  {
   "cell_type": "markdown",
   "id": "6f303c87",
   "metadata": {},
   "source": [
    "### Continuous Variables"
   ]
  },
  {
   "cell_type": "markdown",
   "id": "e9ad1098",
   "metadata": {},
   "source": [
    "**Removing 'device_fraud_count' column since it only contains 1 value.**"
   ]
  },
  {
   "cell_type": "code",
   "execution_count": 24,
   "id": "246d1e6a",
   "metadata": {
    "ExecuteTime": {
     "end_time": "2023-05-16T12:49:30.826630Z",
     "start_time": "2023-05-16T12:49:30.817398Z"
    }
   },
   "outputs": [
    {
     "data": {
      "text/plain": [
       "array([0])"
      ]
     },
     "execution_count": 24,
     "metadata": {},
     "output_type": "execute_result"
    }
   ],
   "source": [
    "app['device_fraud_count'].unique()"
   ]
  },
  {
   "cell_type": "code",
   "execution_count": 25,
   "id": "8e57aea7",
   "metadata": {
    "ExecuteTime": {
     "end_time": "2023-05-16T12:49:30.915737Z",
     "start_time": "2023-05-16T12:49:30.827956Z"
    }
   },
   "outputs": [],
   "source": [
    "app.drop(columns=['device_fraud_count'], inplace=True)"
   ]
  },
  {
   "cell_type": "markdown",
   "id": "525c685b",
   "metadata": {},
   "source": [
    "**Majority of applications are not originated from overseas. Remove this column.**"
   ]
  },
  {
   "cell_type": "code",
   "execution_count": 26,
   "id": "dba2e7aa",
   "metadata": {
    "ExecuteTime": {
     "end_time": "2023-05-16T12:49:30.926712Z",
     "start_time": "2023-05-16T12:49:30.917069Z"
    }
   },
   "outputs": [
    {
     "data": {
      "text/plain": [
       "0    974758\n",
       "1     25242\n",
       "Name: foreign_request, dtype: int64"
      ]
     },
     "execution_count": 26,
     "metadata": {},
     "output_type": "execute_result"
    }
   ],
   "source": [
    "app['foreign_request'].value_counts()"
   ]
  },
  {
   "cell_type": "code",
   "execution_count": 27,
   "id": "33dedf59",
   "metadata": {
    "ExecuteTime": {
     "end_time": "2023-05-16T12:49:31.034740Z",
     "start_time": "2023-05-16T12:49:30.928143Z"
    }
   },
   "outputs": [],
   "source": [
    "app.drop(columns=['foreign_request'], inplace=True)"
   ]
  },
  {
   "cell_type": "markdown",
   "id": "93e84f40",
   "metadata": {},
   "source": [
    "**Replace unreasonable values: average number of applications made in last 6 hours should not be negative. However, following the other column's formatting, negative application numbers will all be set to -1 which denotes no applications.**"
   ]
  },
  {
   "cell_type": "code",
   "execution_count": 28,
   "id": "d87b8916",
   "metadata": {
    "ExecuteTime": {
     "end_time": "2023-05-16T12:49:31.254416Z",
     "start_time": "2023-05-16T12:49:31.040588Z"
    }
   },
   "outputs": [],
   "source": [
    "app['velocity_6h'] = app['velocity_6h'].apply(lambda x: -1 if x<0 else x)"
   ]
  }
 ],
 "metadata": {
  "availableInstances": [
   {
    "_defaultOrder": 0,
    "_isFastLaunch": true,
    "category": "General purpose",
    "gpuNum": 0,
    "hideHardwareSpecs": false,
    "memoryGiB": 4,
    "name": "ml.t3.medium",
    "vcpuNum": 2
   },
   {
    "_defaultOrder": 1,
    "_isFastLaunch": false,
    "category": "General purpose",
    "gpuNum": 0,
    "hideHardwareSpecs": false,
    "memoryGiB": 8,
    "name": "ml.t3.large",
    "vcpuNum": 2
   },
   {
    "_defaultOrder": 2,
    "_isFastLaunch": false,
    "category": "General purpose",
    "gpuNum": 0,
    "hideHardwareSpecs": false,
    "memoryGiB": 16,
    "name": "ml.t3.xlarge",
    "vcpuNum": 4
   },
   {
    "_defaultOrder": 3,
    "_isFastLaunch": false,
    "category": "General purpose",
    "gpuNum": 0,
    "hideHardwareSpecs": false,
    "memoryGiB": 32,
    "name": "ml.t3.2xlarge",
    "vcpuNum": 8
   },
   {
    "_defaultOrder": 4,
    "_isFastLaunch": true,
    "category": "General purpose",
    "gpuNum": 0,
    "hideHardwareSpecs": false,
    "memoryGiB": 8,
    "name": "ml.m5.large",
    "vcpuNum": 2
   },
   {
    "_defaultOrder": 5,
    "_isFastLaunch": false,
    "category": "General purpose",
    "gpuNum": 0,
    "hideHardwareSpecs": false,
    "memoryGiB": 16,
    "name": "ml.m5.xlarge",
    "vcpuNum": 4
   },
   {
    "_defaultOrder": 6,
    "_isFastLaunch": false,
    "category": "General purpose",
    "gpuNum": 0,
    "hideHardwareSpecs": false,
    "memoryGiB": 32,
    "name": "ml.m5.2xlarge",
    "vcpuNum": 8
   },
   {
    "_defaultOrder": 7,
    "_isFastLaunch": false,
    "category": "General purpose",
    "gpuNum": 0,
    "hideHardwareSpecs": false,
    "memoryGiB": 64,
    "name": "ml.m5.4xlarge",
    "vcpuNum": 16
   },
   {
    "_defaultOrder": 8,
    "_isFastLaunch": false,
    "category": "General purpose",
    "gpuNum": 0,
    "hideHardwareSpecs": false,
    "memoryGiB": 128,
    "name": "ml.m5.8xlarge",
    "vcpuNum": 32
   },
   {
    "_defaultOrder": 9,
    "_isFastLaunch": false,
    "category": "General purpose",
    "gpuNum": 0,
    "hideHardwareSpecs": false,
    "memoryGiB": 192,
    "name": "ml.m5.12xlarge",
    "vcpuNum": 48
   },
   {
    "_defaultOrder": 10,
    "_isFastLaunch": false,
    "category": "General purpose",
    "gpuNum": 0,
    "hideHardwareSpecs": false,
    "memoryGiB": 256,
    "name": "ml.m5.16xlarge",
    "vcpuNum": 64
   },
   {
    "_defaultOrder": 11,
    "_isFastLaunch": false,
    "category": "General purpose",
    "gpuNum": 0,
    "hideHardwareSpecs": false,
    "memoryGiB": 384,
    "name": "ml.m5.24xlarge",
    "vcpuNum": 96
   },
   {
    "_defaultOrder": 12,
    "_isFastLaunch": false,
    "category": "General purpose",
    "gpuNum": 0,
    "hideHardwareSpecs": false,
    "memoryGiB": 8,
    "name": "ml.m5d.large",
    "vcpuNum": 2
   },
   {
    "_defaultOrder": 13,
    "_isFastLaunch": false,
    "category": "General purpose",
    "gpuNum": 0,
    "hideHardwareSpecs": false,
    "memoryGiB": 16,
    "name": "ml.m5d.xlarge",
    "vcpuNum": 4
   },
   {
    "_defaultOrder": 14,
    "_isFastLaunch": false,
    "category": "General purpose",
    "gpuNum": 0,
    "hideHardwareSpecs": false,
    "memoryGiB": 32,
    "name": "ml.m5d.2xlarge",
    "vcpuNum": 8
   },
   {
    "_defaultOrder": 15,
    "_isFastLaunch": false,
    "category": "General purpose",
    "gpuNum": 0,
    "hideHardwareSpecs": false,
    "memoryGiB": 64,
    "name": "ml.m5d.4xlarge",
    "vcpuNum": 16
   },
   {
    "_defaultOrder": 16,
    "_isFastLaunch": false,
    "category": "General purpose",
    "gpuNum": 0,
    "hideHardwareSpecs": false,
    "memoryGiB": 128,
    "name": "ml.m5d.8xlarge",
    "vcpuNum": 32
   },
   {
    "_defaultOrder": 17,
    "_isFastLaunch": false,
    "category": "General purpose",
    "gpuNum": 0,
    "hideHardwareSpecs": false,
    "memoryGiB": 192,
    "name": "ml.m5d.12xlarge",
    "vcpuNum": 48
   },
   {
    "_defaultOrder": 18,
    "_isFastLaunch": false,
    "category": "General purpose",
    "gpuNum": 0,
    "hideHardwareSpecs": false,
    "memoryGiB": 256,
    "name": "ml.m5d.16xlarge",
    "vcpuNum": 64
   },
   {
    "_defaultOrder": 19,
    "_isFastLaunch": false,
    "category": "General purpose",
    "gpuNum": 0,
    "hideHardwareSpecs": false,
    "memoryGiB": 384,
    "name": "ml.m5d.24xlarge",
    "vcpuNum": 96
   },
   {
    "_defaultOrder": 20,
    "_isFastLaunch": false,
    "category": "General purpose",
    "gpuNum": 0,
    "hideHardwareSpecs": true,
    "memoryGiB": 0,
    "name": "ml.geospatial.interactive",
    "supportedImageNames": [
     "sagemaker-geospatial-v1-0"
    ],
    "vcpuNum": 0
   },
   {
    "_defaultOrder": 21,
    "_isFastLaunch": true,
    "category": "Compute optimized",
    "gpuNum": 0,
    "hideHardwareSpecs": false,
    "memoryGiB": 4,
    "name": "ml.c5.large",
    "vcpuNum": 2
   },
   {
    "_defaultOrder": 22,
    "_isFastLaunch": false,
    "category": "Compute optimized",
    "gpuNum": 0,
    "hideHardwareSpecs": false,
    "memoryGiB": 8,
    "name": "ml.c5.xlarge",
    "vcpuNum": 4
   },
   {
    "_defaultOrder": 23,
    "_isFastLaunch": false,
    "category": "Compute optimized",
    "gpuNum": 0,
    "hideHardwareSpecs": false,
    "memoryGiB": 16,
    "name": "ml.c5.2xlarge",
    "vcpuNum": 8
   },
   {
    "_defaultOrder": 24,
    "_isFastLaunch": false,
    "category": "Compute optimized",
    "gpuNum": 0,
    "hideHardwareSpecs": false,
    "memoryGiB": 32,
    "name": "ml.c5.4xlarge",
    "vcpuNum": 16
   },
   {
    "_defaultOrder": 25,
    "_isFastLaunch": false,
    "category": "Compute optimized",
    "gpuNum": 0,
    "hideHardwareSpecs": false,
    "memoryGiB": 72,
    "name": "ml.c5.9xlarge",
    "vcpuNum": 36
   },
   {
    "_defaultOrder": 26,
    "_isFastLaunch": false,
    "category": "Compute optimized",
    "gpuNum": 0,
    "hideHardwareSpecs": false,
    "memoryGiB": 96,
    "name": "ml.c5.12xlarge",
    "vcpuNum": 48
   },
   {
    "_defaultOrder": 27,
    "_isFastLaunch": false,
    "category": "Compute optimized",
    "gpuNum": 0,
    "hideHardwareSpecs": false,
    "memoryGiB": 144,
    "name": "ml.c5.18xlarge",
    "vcpuNum": 72
   },
   {
    "_defaultOrder": 28,
    "_isFastLaunch": false,
    "category": "Compute optimized",
    "gpuNum": 0,
    "hideHardwareSpecs": false,
    "memoryGiB": 192,
    "name": "ml.c5.24xlarge",
    "vcpuNum": 96
   },
   {
    "_defaultOrder": 29,
    "_isFastLaunch": true,
    "category": "Accelerated computing",
    "gpuNum": 1,
    "hideHardwareSpecs": false,
    "memoryGiB": 16,
    "name": "ml.g4dn.xlarge",
    "vcpuNum": 4
   },
   {
    "_defaultOrder": 30,
    "_isFastLaunch": false,
    "category": "Accelerated computing",
    "gpuNum": 1,
    "hideHardwareSpecs": false,
    "memoryGiB": 32,
    "name": "ml.g4dn.2xlarge",
    "vcpuNum": 8
   },
   {
    "_defaultOrder": 31,
    "_isFastLaunch": false,
    "category": "Accelerated computing",
    "gpuNum": 1,
    "hideHardwareSpecs": false,
    "memoryGiB": 64,
    "name": "ml.g4dn.4xlarge",
    "vcpuNum": 16
   },
   {
    "_defaultOrder": 32,
    "_isFastLaunch": false,
    "category": "Accelerated computing",
    "gpuNum": 1,
    "hideHardwareSpecs": false,
    "memoryGiB": 128,
    "name": "ml.g4dn.8xlarge",
    "vcpuNum": 32
   },
   {
    "_defaultOrder": 33,
    "_isFastLaunch": false,
    "category": "Accelerated computing",
    "gpuNum": 4,
    "hideHardwareSpecs": false,
    "memoryGiB": 192,
    "name": "ml.g4dn.12xlarge",
    "vcpuNum": 48
   },
   {
    "_defaultOrder": 34,
    "_isFastLaunch": false,
    "category": "Accelerated computing",
    "gpuNum": 1,
    "hideHardwareSpecs": false,
    "memoryGiB": 256,
    "name": "ml.g4dn.16xlarge",
    "vcpuNum": 64
   },
   {
    "_defaultOrder": 35,
    "_isFastLaunch": false,
    "category": "Accelerated computing",
    "gpuNum": 1,
    "hideHardwareSpecs": false,
    "memoryGiB": 61,
    "name": "ml.p3.2xlarge",
    "vcpuNum": 8
   },
   {
    "_defaultOrder": 36,
    "_isFastLaunch": false,
    "category": "Accelerated computing",
    "gpuNum": 4,
    "hideHardwareSpecs": false,
    "memoryGiB": 244,
    "name": "ml.p3.8xlarge",
    "vcpuNum": 32
   },
   {
    "_defaultOrder": 37,
    "_isFastLaunch": false,
    "category": "Accelerated computing",
    "gpuNum": 8,
    "hideHardwareSpecs": false,
    "memoryGiB": 488,
    "name": "ml.p3.16xlarge",
    "vcpuNum": 64
   },
   {
    "_defaultOrder": 38,
    "_isFastLaunch": false,
    "category": "Accelerated computing",
    "gpuNum": 8,
    "hideHardwareSpecs": false,
    "memoryGiB": 768,
    "name": "ml.p3dn.24xlarge",
    "vcpuNum": 96
   },
   {
    "_defaultOrder": 39,
    "_isFastLaunch": false,
    "category": "Memory Optimized",
    "gpuNum": 0,
    "hideHardwareSpecs": false,
    "memoryGiB": 16,
    "name": "ml.r5.large",
    "vcpuNum": 2
   },
   {
    "_defaultOrder": 40,
    "_isFastLaunch": false,
    "category": "Memory Optimized",
    "gpuNum": 0,
    "hideHardwareSpecs": false,
    "memoryGiB": 32,
    "name": "ml.r5.xlarge",
    "vcpuNum": 4
   },
   {
    "_defaultOrder": 41,
    "_isFastLaunch": false,
    "category": "Memory Optimized",
    "gpuNum": 0,
    "hideHardwareSpecs": false,
    "memoryGiB": 64,
    "name": "ml.r5.2xlarge",
    "vcpuNum": 8
   },
   {
    "_defaultOrder": 42,
    "_isFastLaunch": false,
    "category": "Memory Optimized",
    "gpuNum": 0,
    "hideHardwareSpecs": false,
    "memoryGiB": 128,
    "name": "ml.r5.4xlarge",
    "vcpuNum": 16
   },
   {
    "_defaultOrder": 43,
    "_isFastLaunch": false,
    "category": "Memory Optimized",
    "gpuNum": 0,
    "hideHardwareSpecs": false,
    "memoryGiB": 256,
    "name": "ml.r5.8xlarge",
    "vcpuNum": 32
   },
   {
    "_defaultOrder": 44,
    "_isFastLaunch": false,
    "category": "Memory Optimized",
    "gpuNum": 0,
    "hideHardwareSpecs": false,
    "memoryGiB": 384,
    "name": "ml.r5.12xlarge",
    "vcpuNum": 48
   },
   {
    "_defaultOrder": 45,
    "_isFastLaunch": false,
    "category": "Memory Optimized",
    "gpuNum": 0,
    "hideHardwareSpecs": false,
    "memoryGiB": 512,
    "name": "ml.r5.16xlarge",
    "vcpuNum": 64
   },
   {
    "_defaultOrder": 46,
    "_isFastLaunch": false,
    "category": "Memory Optimized",
    "gpuNum": 0,
    "hideHardwareSpecs": false,
    "memoryGiB": 768,
    "name": "ml.r5.24xlarge",
    "vcpuNum": 96
   },
   {
    "_defaultOrder": 47,
    "_isFastLaunch": false,
    "category": "Accelerated computing",
    "gpuNum": 1,
    "hideHardwareSpecs": false,
    "memoryGiB": 16,
    "name": "ml.g5.xlarge",
    "vcpuNum": 4
   },
   {
    "_defaultOrder": 48,
    "_isFastLaunch": false,
    "category": "Accelerated computing",
    "gpuNum": 1,
    "hideHardwareSpecs": false,
    "memoryGiB": 32,
    "name": "ml.g5.2xlarge",
    "vcpuNum": 8
   },
   {
    "_defaultOrder": 49,
    "_isFastLaunch": false,
    "category": "Accelerated computing",
    "gpuNum": 1,
    "hideHardwareSpecs": false,
    "memoryGiB": 64,
    "name": "ml.g5.4xlarge",
    "vcpuNum": 16
   },
   {
    "_defaultOrder": 50,
    "_isFastLaunch": false,
    "category": "Accelerated computing",
    "gpuNum": 1,
    "hideHardwareSpecs": false,
    "memoryGiB": 128,
    "name": "ml.g5.8xlarge",
    "vcpuNum": 32
   },
   {
    "_defaultOrder": 51,
    "_isFastLaunch": false,
    "category": "Accelerated computing",
    "gpuNum": 1,
    "hideHardwareSpecs": false,
    "memoryGiB": 256,
    "name": "ml.g5.16xlarge",
    "vcpuNum": 64
   },
   {
    "_defaultOrder": 52,
    "_isFastLaunch": false,
    "category": "Accelerated computing",
    "gpuNum": 4,
    "hideHardwareSpecs": false,
    "memoryGiB": 192,
    "name": "ml.g5.12xlarge",
    "vcpuNum": 48
   },
   {
    "_defaultOrder": 53,
    "_isFastLaunch": false,
    "category": "Accelerated computing",
    "gpuNum": 4,
    "hideHardwareSpecs": false,
    "memoryGiB": 384,
    "name": "ml.g5.24xlarge",
    "vcpuNum": 96
   },
   {
    "_defaultOrder": 54,
    "_isFastLaunch": false,
    "category": "Accelerated computing",
    "gpuNum": 8,
    "hideHardwareSpecs": false,
    "memoryGiB": 768,
    "name": "ml.g5.48xlarge",
    "vcpuNum": 192
   }
  ],
  "instance_type": "ml.t3.medium",
  "kernelspec": {
   "display_name": "Python 3 (Data Science)",
   "language": "python",
   "name": "python3__SAGEMAKER_INTERNAL__arn:aws:sagemaker:us-east-1:081325390199:image/datascience-1.0"
  },
  "language_info": {
   "codemirror_mode": {
    "name": "ipython",
    "version": 3
   },
   "file_extension": ".py",
   "mimetype": "text/x-python",
   "name": "python",
   "nbconvert_exporter": "python",
   "pygments_lexer": "ipython3",
   "version": "3.7.10"
  },
  "toc": {
   "base_numbering": 1,
   "nav_menu": {},
   "number_sections": true,
   "sideBar": true,
   "skip_h1_title": false,
   "title_cell": "Table of Contents",
   "title_sidebar": "Contents",
   "toc_cell": false,
   "toc_position": {},
   "toc_section_display": true,
   "toc_window_display": true
  }
 },
 "nbformat": 4,
 "nbformat_minor": 5
}
